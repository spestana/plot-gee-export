{
 "cells": [
  {
   "cell_type": "code",
   "execution_count": 1,
   "metadata": {},
   "outputs": [],
   "source": [
    "import xarray as xr\n",
    "import os\n",
    "import cartopy.crs as ccrs\n",
    "import matplotlib.pyplot as plt\n",
    "import numpy as np"
   ]
  },
  {
   "cell_type": "markdown",
   "metadata": {},
   "source": [
    "Define a function to get a list of all the files in a directory"
   ]
  },
  {
   "cell_type": "code",
   "execution_count": 2,
   "metadata": {},
   "outputs": [],
   "source": [
    "def getListOfFiles(dirName):\n",
    "    # create a list of file and sub directories \n",
    "    # names in the given directory \n",
    "    # https://thispointer.com/python-how-to-get-list-of-files-in-directory-and-sub-directories/\n",
    "    listOfFile = os.listdir(dirName)\n",
    "    allFiles = list()\n",
    "    # Iterate over all the entries\n",
    "    for entry in listOfFile:\n",
    "        # Create full path\n",
    "        fullPath = os.path.join(dirName, entry)\n",
    "        # If entry is a directory then get the list of files in this directory \n",
    "        if os.path.isdir(fullPath):\n",
    "            allFiles = allFiles + getListOfFiles(fullPath)\n",
    "        else:\n",
    "            allFiles.append(fullPath)\n",
    "                \n",
    "    return allFiles"
   ]
  },
  {
   "cell_type": "markdown",
   "metadata": {},
   "source": [
    "Specify the directory our geotiff files are stored within:"
   ]
  },
  {
   "cell_type": "code",
   "execution_count": 3,
   "metadata": {},
   "outputs": [],
   "source": [
    "directory = r'C:\\Users\\steve\\Desktop\\snowmap_test8-20200423T000031Z-001\\snowmap_test8'"
   ]
  },
  {
   "cell_type": "markdown",
   "metadata": {},
   "source": [
    "Get a list of all the files in this directory:"
   ]
  },
  {
   "cell_type": "code",
   "execution_count": 4,
   "metadata": {},
   "outputs": [],
   "source": [
    "file_list = getListOfFiles(directory)"
   ]
  },
  {
   "cell_type": "markdown",
   "metadata": {},
   "source": [
    "Specify the filename we want to give the merged data:"
   ]
  },
  {
   "cell_type": "code",
   "execution_count": 5,
   "metadata": {},
   "outputs": [],
   "source": [
    "out_filename = 'Example_PM_SSUM_25km_month02_.nc'"
   ]
  },
  {
   "cell_type": "markdown",
   "metadata": {},
   "source": [
    "Now open each file, unpack the 5 \"bands\" of data, merge, and save to a new NetCDF file. \n",
    "\n",
    "(this is probably not the most efficient way to do this, but it seems to work)"
   ]
  },
  {
   "cell_type": "code",
   "execution_count": 6,
   "metadata": {},
   "outputs": [
    {
     "name": "stdout",
     "output_type": "stream",
     "text": [
      "Opening C:\\Users\\steve\\Desktop\\snowmap_test8-20200423T000031Z-001\\snowmap_test8\\snowmap_90_90.tifff"
     ]
    }
   ],
   "source": [
    "lst = [];\n",
    "tcc = [];\n",
    "swe = [];\n",
    "ndsi = [];\n",
    "sensorclass = [];\n",
    "\n",
    "for file in file_list:\n",
    "    print(\"\\rOpening {}\".format(str(file)),end='')\n",
    "    data = xr.open_rasterio(file)\n",
    "    lst.append( xr.DataArray(data[0], name='lst') )\n",
    "    tcc.append( xr.DataArray(data[1], name='tcc') )\n",
    "    swe.append( xr.DataArray(data[2], name='swe') )\n",
    "    ndsi.append( xr.DataArray(data[3], name='ndsi') )\n",
    "    sensorclass.append( xr.DataArray(data[4], name='sensorclass') )\n",
    "\n",
    "ds_lst = xr.merge(lst).drop('band')\n",
    "ds_tcc = xr.merge(tcc).drop('band')\n",
    "ds_swe = xr.merge(swe).drop('band')\n",
    "ds_ndsi = xr.merge(ndsi).drop('band')\n",
    "ds_sensorclass = xr.merge(sensorclass).drop('band')\n",
    "\n",
    "ds = xr.merge([ds_lst, ds_tcc, ds_swe, ds_ndsi, ds_sensorclass])\n",
    "\n",
    "ds.to_netcdf(out_filename)"
   ]
  },
  {
   "cell_type": "markdown",
   "metadata": {},
   "source": [
    "---\n"
   ]
  }
 ],
 "metadata": {
  "kernelspec": {
   "display_name": "Python 3",
   "language": "python",
   "name": "python3"
  },
  "language_info": {
   "codemirror_mode": {
    "name": "ipython",
    "version": 3
   },
   "file_extension": ".py",
   "mimetype": "text/x-python",
   "name": "python",
   "nbconvert_exporter": "python",
   "pygments_lexer": "ipython3",
   "version": "3.6.7"
  }
 },
 "nbformat": 4,
 "nbformat_minor": 4
}
